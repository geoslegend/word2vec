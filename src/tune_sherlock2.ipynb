{
 "cells": [
  {
   "cell_type": "markdown",
   "metadata": {},
   "source": [
    "## Learning Word Vectors with TensorFlow: Hyperparameter Tuning\n",
    "Patrick Coady (pcoady@alum.mit.edu)"
   ]
  },
  {
   "cell_type": "code",
   "execution_count": null,
   "metadata": {
    "collapsed": false
   },
   "outputs": [],
   "source": [
    "from wordvector import WordVector\n",
    "from windowmodel import WindowModel\n",
    "import docload\n",
    "from plot_util import plot_results\n",
    "\n",
    "import numpy as np\n",
    "import sklearn.utils"
   ]
  },
  {
   "cell_type": "code",
   "execution_count": null,
   "metadata": {
    "collapsed": false
   },
   "outputs": [],
   "source": [
    "files = ['../data/adventures_of_sherlock_holmes.txt',\n",
    "        '../data/hound_of_the_baskervilles.txt',\n",
    "        '../data/sign_of_the_four.txt']\n",
    "word_array, dictionary, num_lines, num_words = docload.build_word_array(\n",
    "    files, vocab_size=50000, gutenberg=True)\n",
    "print('Document loaded and processed: {} lines, {} words.'\n",
    "      .format(num_lines, num_words))"
   ]
  },
  {
   "cell_type": "code",
   "execution_count": null,
   "metadata": {
    "collapsed": true
   },
   "outputs": [],
   "source": [
    "x, y = WindowModel.build_training_set(word_array)\n",
    "\n",
    "# shuffle and split 10% validation data\n",
    "x_shuf, y_shuf = sklearn.utils.shuffle(x, y, random_state=0)\n",
    "split = round(x_shuf.shape[0]*0.9)\n",
    "x_val, y_val = (x_shuf[split:, :], y_shuf[split:, :])\n",
    "x_train, y_train = (x[:split, :], y[:split, :])"
   ]
  },
  {
   "cell_type": "markdown",
   "metadata": {},
   "source": [
    "## Embedding Weights Initialization\n",
    "Embedding matrix initialized over zero-mean uniform distribution. Try uniform distribution widths of: {0.02, 0.2, 2}\n",
    "\n",
    "***Result: Width of 2 needed to reliably avoid stalling on plateau***"
   ]
  },
  {
   "cell_type": "code",
   "execution_count": null,
   "metadata": {
    "collapsed": false,
    "scrolled": false
   },
   "outputs": [],
   "source": [
    "results_list = []\n",
    "count = 0\n",
    "for embed_noise in [0.01, 0.1, 1]:\n",
    "    for dummy in range(2):  # run each sim twice\n",
    "        print('{}) embed noise = {}, run #{}'.format(count, embed_noise, dummy))\n",
    "        count += 1\n",
    "        graph_params = {'batch_size': 32,\n",
    "                        'vocab_size': np.max(x)+1,\n",
    "                        'embed_size': 128,\n",
    "                        'hid_size': 128,\n",
    "                        'neg_samples': 64,\n",
    "                        'learn_rate': 0.002,\n",
    "                        'embed_noise': embed_noise,\n",
    "                        'optimizer': 'RMSProp'}\n",
    "        model = WindowModel(graph_params)\n",
    "        results = model.train(x_train, y_train, x_val, y_val, epochs=80, verbose=False)\n",
    "        results_list.append((graph_params, results))"
   ]
  },
  {
   "cell_type": "code",
   "execution_count": null,
   "metadata": {
    "collapsed": false
   },
   "outputs": [],
   "source": [
    "plot_results(results_list)"
   ]
  },
  {
   "cell_type": "markdown",
   "metadata": {},
   "source": [
    "## Weight Initialization to Output Softmax:\n",
    "### Standard Normal or Truncated\n",
    "\n",
    "***Result: Both distributions work equivalently ... use standard normal.***"
   ]
  },
  {
   "cell_type": "code",
   "execution_count": null,
   "metadata": {
    "collapsed": false
   },
   "outputs": [],
   "source": [
    "results_list2 = []\n",
    "count = 0\n",
    "for trunc_norm in [True, False]:\n",
    "    for dummy in range(2):  # run each sim twice\n",
    "        print('{}) truncated normal? {}, run #{}'.format(count, trunc_norm, dummy))\n",
    "        count += 1\n",
    "        graph_params = {'batch_size': 32,\n",
    "                        'vocab_size': np.max(x)+1,\n",
    "                        'embed_size': 128,\n",
    "                        'hid_size': 128,\n",
    "                        'neg_samples': 64,\n",
    "                        'learn_rate': 0.002,\n",
    "                        'embed_noise': 1.0,\n",
    "                        'trunc_norm': trunc_norm,\n",
    "                        'optimizer': 'RMSProp'}  \n",
    "        model = WindowModel(graph_params)\n",
    "        results = model.train(x_train, y_train, x_val, y_val, epochs=80, verbose=False)\n",
    "        results_list2.append((graph_params, results))"
   ]
  },
  {
   "cell_type": "code",
   "execution_count": null,
   "metadata": {
    "collapsed": false,
    "scrolled": true
   },
   "outputs": [],
   "source": [
    "plot_results(results_list2)"
   ]
  },
  {
   "cell_type": "markdown",
   "metadata": {},
   "source": [
    "## Weight Initialization to Hidden Layer\n",
    "\n",
    "sigma = {0.1, 1, 10} * 1/sqrt(# of node inputs)\n",
    "\n",
    "***Result: 10 too large, 1 and 0.1 both acceptable. Use 0.3.***"
   ]
  },
  {
   "cell_type": "code",
   "execution_count": null,
   "metadata": {
    "collapsed": false
   },
   "outputs": [],
   "source": [
    "results_list3 = []\n",
    "count = 0\n",
    "for hid_noise in [0.1, 1, 10]:\n",
    "    for dummy in range(2):  # run each sim twice\n",
    "        print('{}) hidden layer sigma {}, run #{}'.format(count, hid_noise, dummy))\n",
    "        count += 1\n",
    "        graph_params = {'batch_size': 32,\n",
    "                        'vocab_size': np.max(x)+1,\n",
    "                        'embed_size': 128,\n",
    "                        'hid_size': 128,\n",
    "                        'neg_samples': 64,\n",
    "                        'learn_rate': 0.002,\n",
    "                        'embed_noise': 1.0,\n",
    "                        'hid_noise': hid_noise,\n",
    "                        'optimizer': 'RMSProp'}\n",
    "        model = WindowModel(graph_params)\n",
    "        results = model.train(x_train, y_train, x_val, y_val, epochs=50, verbose=False)\n",
    "        results_list3.append((graph_params, results))"
   ]
  },
  {
   "cell_type": "code",
   "execution_count": null,
   "metadata": {
    "collapsed": false
   },
   "outputs": [],
   "source": [
    "plot_results(results_list3)"
   ]
  }
 ],
 "metadata": {
  "kernelspec": {
   "display_name": "Python 3",
   "language": "python",
   "name": "python3"
  },
  "language_info": {
   "codemirror_mode": {
    "name": "ipython",
    "version": 3
   },
   "file_extension": ".py",
   "mimetype": "text/x-python",
   "name": "python",
   "nbconvert_exporter": "python",
   "pygments_lexer": "ipython3",
   "version": "3.5.2"
  }
 },
 "nbformat": 4,
 "nbformat_minor": 2
}
